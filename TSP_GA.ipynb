{
  "nbformat": 4,
  "nbformat_minor": 0,
  "metadata": {
    "colab": {
      "name": "TSP_GA.ipynb",
      "provenance": [],
      "collapsed_sections": [],
      "toc_visible": true
    },
    "kernelspec": {
      "name": "python3",
      "display_name": "Python 3"
    }
  },
  "cells": [
    {
      "cell_type": "markdown",
      "metadata": {
        "id": "s572xjyrg1wG",
        "colab_type": "text"
      },
      "source": [
        "#TSP using Genetic algorithm\n",
        "\n",
        "<b>Problem definition</b>:<br>\n",
        "  There are 'n' cities and cost to travel from city i->j is given. There is sales man who want cover all the cities. So devise a route such that the cost is as low as possible.<br>\n",
        "<u>Constraint</u> : Every cities must be visted only once.\n",
        "\n",
        "<b>Solution</b>:<br>\n",
        "  This is a optimization problem. In this solution we use genetic algorithm to find the optimal path. Genetic is a non-derivative approach to solve a optimization problem. Though its not guaranteed to find the most low cost path, it can provide a path with optimal cost(soft computing). This is usually employeed to solve NP problems.\n",
        "\n",
        "<u>Following are the steps to take:</u><br>\n",
        "Finding relation between phenotypes and genotypes for this problem,i.e encoding and decoding.<br>\n",
        "Finding the appropriate fitness function.<br>\n",
        "Generating intial population.<br>\n",
        "Finding suitable selection, crossover and mutation method.<br>\n",
        "Choosing appropriate survivor selection method and termination condition.<br>\n"
      ]
    },
    {
      "cell_type": "markdown",
      "metadata": {
        "id": "kGjt64Ab3DiQ",
        "colab_type": "text"
      },
      "source": [
        "<b>IN THIS NOTEBOOK</b><br>\n",
        "Encoding         : Permutation Encoding <br>\n",
        "Fitness function : Cost<br>\n",
        "Selection        : Roulette Wheel Selection<br>\n",
        "Crossover        : Ordered Crossover<br>\n",
        "Mutation         : Interchange"
      ]
    },
    {
      "cell_type": "code",
      "metadata": {
        "id": "eWKud2BsgqzF",
        "colab_type": "code",
        "colab": {}
      },
      "source": [
        "#The libraries used in this problem\n",
        "import numpy as np\n",
        "import copy\n",
        "from random import shuffle\n",
        "from random import randrange\n",
        "import matplotlib.pyplot as plt\n",
        "from IPython.display import clear_output"
      ],
      "execution_count": 0,
      "outputs": []
    },
    {
      "cell_type": "code",
      "metadata": {
        "id": "G8cXXz2zkk05",
        "colab_type": "code",
        "outputId": "8025382a-0cf2-49a3-c7fa-07bf93898c2d",
        "colab": {
          "base_uri": "https://localhost:8080/",
          "height": 187
        }
      },
      "source": [
        "#Defining city graph\n",
        "n=10 #No of cities\n",
        "cities=[i for i in range(n)]\n",
        "graph=np.random.randint(1,100,(n,n))#graph[i][j] tells the cost to travel i->j\n",
        "for i in range(n):\n",
        "  graph[i][i]=0\n",
        "print(graph)"
      ],
      "execution_count": 0,
      "outputs": [
        {
          "output_type": "stream",
          "text": [
            "[[ 0 83 39 21 99 33  2 64 10 77]\n",
            " [17  0 99  6 22 67 53 41 54 88]\n",
            " [50 80  0  6 68 79 35  3 99 64]\n",
            " [25 97 61  0 99 78 44 17 47 28]\n",
            " [ 6 29 20 96  0 34 46 11 62 62]\n",
            " [66 92 45 57 67  0 29 44 36 29]\n",
            " [91 49  2  1 88 59  0 32 71 30]\n",
            " [39 38 15 57 56 79 70  0 15 30]\n",
            " [84 86 65 50 85 34 90 30  0 53]\n",
            " [70 99 91 37 39 81 76 61 18  0]]\n"
          ],
          "name": "stdout"
        }
      ]
    },
    {
      "cell_type": "code",
      "metadata": {
        "id": "ws0uuauAKx1F",
        "colab_type": "code",
        "colab": {}
      },
      "source": [
        "#Defining chromosome\n",
        "class chromosome:\n",
        "  def __init__(self,data,fit):\n",
        "    self.data=np.asarray(data)\n",
        "    self.fit=fit"
      ],
      "execution_count": 0,
      "outputs": []
    },
    {
      "cell_type": "code",
      "metadata": {
        "id": "6AIX5OXXzFOi",
        "colab_type": "code",
        "colab": {}
      },
      "source": [
        "#Defining fitness function\n",
        "def fitness(data):\n",
        "  cost=0\n",
        "  for i in range(len(data)-1):\n",
        "    cost+=graph[data[i]][data[i+1]]\n",
        "  return cost #Fitness value"
      ],
      "execution_count": 0,
      "outputs": []
    },
    {
      "cell_type": "code",
      "metadata": {
        "id": "Wz9vFaVFz77N",
        "colab_type": "code",
        "colab": {}
      },
      "source": [
        "#Roulette Wheel Selection\n",
        "def selection(population,fitness_data,noc):\n",
        "  total=sum(fitness_data)\n",
        "  inverse=list(map(lambda x:total-x,fitness_data))\n",
        "  total=sum(inverse)\n",
        "  probability=list(map(lambda x:x/total,inverse))\n",
        "  parents=np.random.choice(population,(noc,2),False,p=probability) #Gives noc pairs of identical parents from population, selected with given probability\n",
        "  return parents"
      ],
      "execution_count": 0,
      "outputs": []
    },
    {
      "cell_type": "code",
      "metadata": {
        "id": "t79vWAGRX5wj",
        "colab_type": "code",
        "colab": {}
      },
      "source": [
        "#Ordered crossover\n",
        "def crossover(parents):\n",
        "  children=np.full((parents.shape[0],2,n),n)\n",
        "  for i,j in enumerate(parents):\n",
        "    low=randrange(n)\n",
        "    high=randrange(low,n)  \n",
        "    children[i][0][low:high]=j[0].data[low:high]\n",
        "    children[i][1][low:high]=j[1].data[low:high]\n",
        "    pointer_list=[x for x in range(n) if x not in range(low,high)]\n",
        "    for l in [0,1]:\n",
        "      ptr=0\n",
        "      array=np.concatenate((j[l].data[:low],j[l].data[high:]))\n",
        "      for k in array:\n",
        "        if k not in children[i][1-l][:]:\n",
        "          children[i][1-l][pointer_list[ptr]]=k\n",
        "          ptr+=1\n",
        "      for m in j[l].data[low:high]:\n",
        "        if m not in children[i][1-l][:]:\n",
        "          children[i][1-l][pointer_list[ptr]]=m\n",
        "          ptr+=1\n",
        "  return children.reshape(-1,n)"
      ],
      "execution_count": 0,
      "outputs": []
    },
    {
      "cell_type": "code",
      "metadata": {
        "id": "cGJPAWyLqyvd",
        "colab_type": "code",
        "colab": {}
      },
      "source": [
        "#Interchange mutation\n",
        "def mutation(children,nom):\n",
        "  main_index=np.random.randint(0,children.shape[0],nom)\n",
        "  for j in range(main_index):\n",
        "    indices=np.random.randint(0,n,2)\n",
        "    children[j][indices[0]],children[j][indices[1]]=children[j][indices[1]],children[j][indices[0]]\n",
        "  return children"
      ],
      "execution_count": 0,
      "outputs": []
    },
    {
      "cell_type": "code",
      "metadata": {
        "id": "hBo_0CT0wll8",
        "colab_type": "code",
        "colab": {}
      },
      "source": [
        "#Max fit survives\n",
        "def survivor_selection(population,fitness_data_parent,children):\n",
        "  fitness_data_children=list(map(lambda x:fitness(x),children))\n",
        "  children_chormosome=[]\n",
        "  for i,j in enumerate(children.tolist()):\n",
        "    children_chormosome.append(chromosome(j,fitness_data_children[i]))\n",
        "  all_combine=population+children_chormosome\n",
        "  all_fitness_combine=fitness_data_parent+fitness_data_children\n",
        "  for i in range(len(all_combine)-len(population)):\n",
        "    index=all_fitness_combine.index(max(all_fitness_combine))\n",
        "    del all_fitness_combine[index],all_combine[index]\n",
        "  return all_combine,all_fitness_combine"
      ],
      "execution_count": 0,
      "outputs": []
    },
    {
      "cell_type": "code",
      "metadata": {
        "id": "BH5NZ4TEviu2",
        "colab_type": "code",
        "colab": {}
      },
      "source": [
        "def train_setup(population_count=10,no_gen=10,noc=3,nom=1,verbose=True):\n",
        "  #Initial poupulation\n",
        "  population=[]\n",
        "  fitness_data=[]\n",
        "  for i in range(population_count):\n",
        "    shuffle(cities)\n",
        "    data=copy.deepcopy(cities)\n",
        "    fitness_data.append(fitness(data))\n",
        "    population.append(chromosome(data,fitness_data[-1]))\n",
        "  \n",
        "  #Evolution process\n",
        "  overall_best_fit=min(fitness_data)\n",
        "  best_chromosome=population[fitness_data.index(overall_best_fit)]\n",
        "  avg_fitness=[sum(fitness_data)/len(fitness_data)]\n",
        "  min_fitness=[overall_best_fit]\n",
        "  max_fitness=[max(fitness_data)]\n",
        "  #try:\n",
        "  for i in range(no_gen):\n",
        "    parents=selection(population,fitness_data,noc)\n",
        "    children=crossover(parents)\n",
        "    mutated=mutation(children,nom)\n",
        "    population,fitness_data=survivor_selection(population,fitness_data,mutated)\n",
        "    \n",
        "    #Recording\n",
        "    current_generation_best=min(fitness_data)\n",
        "    average=sum(fitness_data)/len(fitness_data)\n",
        "    max_fitness.append(max(fitness_data))\n",
        "    min_fitness.append(current_generation_best)\n",
        "    avg_fitness.append(average)\n",
        "    if current_generation_best<overall_best_fit:\n",
        "      overall_best_fit=current_generation_best\n",
        "      best_chromosome=population[fitness_data.index(current_generation_best)]\n",
        "    \n",
        "    #Details of evolution\n",
        "    if verbose:\n",
        "      clear_output(wait=True)\n",
        "      print(\"Generation : \",i+1)\n",
        "      print(\"Overall best fit : \",overall_best_fit)\n",
        "      print(\"Current best fit : \",current_generation_best)\n",
        "      print(\"Current avg : \",average)\n",
        "      plt.plot(min_fitness,'g',label=\"MIN\")\n",
        "      plt.plot(avg_fitness,'b',label=\"AVG\")\n",
        "      plt.plot(max_fitness,'r',label=\"MAX\")\n",
        "      plt.xlabel(\"Generation\")\n",
        "      plt.ylabel(\"Fitness\")\n",
        "      plt.legend(loc=\"best\")\n",
        "      plt.show()\n",
        "  #except Exception as e:\n",
        "    #print(e)\n",
        "  return population,best_chromosome"
      ],
      "execution_count": 0,
      "outputs": []
    },
    {
      "cell_type": "code",
      "metadata": {
        "id": "11ymyS5K90Xk",
        "colab_type": "code",
        "outputId": "5edfc8c9-19d9-4f2a-c717-008cea9614fb",
        "colab": {
          "base_uri": "https://localhost:8080/",
          "height": 381
        }
      },
      "source": [
        "%%time\n",
        "\"\"\"\n",
        "Parameters : pop_count=10,no_gen=50,cp=0.3,mp=0.1\n",
        "noc:1 [int(0.3*10/2)]\n",
        "nom:0 [int(2*0.1*1)]\n",
        "Comments:\n",
        "It has less population count as well childrens arent mutated,\n",
        "so best fit was saturated after few generations.\n",
        "\"\"\"\n",
        "final1=train_setup(population_count=10,no_gen=100,cp=0.3,mp=0.1)"
      ],
      "execution_count": 0,
      "outputs": [
        {
          "output_type": "stream",
          "text": [
            "Generation :  100\n",
            "Overall best fit :  296\n",
            "Current best fit :  296\n",
            "Current avg :  296.0\n"
          ],
          "name": "stdout"
        },
        {
          "output_type": "display_data",
          "data": {
            "image/png": "[encoded data removed]",
            "text/plain": [
              "<Figure size 432x288 with 1 Axes>"
            ]
          },
          "metadata": {
            "tags": []
          }
        },
        {
          "output_type": "stream",
          "text": [
            "CPU times: user 18.6 s, sys: 321 ms, total: 19 s\n",
            "Wall time: 18.9 s\n"
          ],
          "name": "stdout"
        }
      ]
    },
    {
      "cell_type": "code",
      "metadata": {
        "id": "VR5MQ-cwWwuX",
        "colab_type": "code",
        "outputId": "309080e5-2f25-469c-929b-b0524bb14d26",
        "colab": {
          "base_uri": "https://localhost:8080/",
          "height": 381
        }
      },
      "source": [
        "%%time\n",
        "\"\"\"\n",
        "Parameters : pop_count=100,no_gen=100,cp=0.3,mp=0.1\n",
        "noc:15 [int(0.3*100/2)]\n",
        "nom:3 [int(2*0.1*15)]\n",
        "Comments:\n",
        "It has more population and 30 parents are crossovered in each generation,\n",
        "3/30 of children are mutated, so the saturation was only towards the end.\n",
        "Best fit was better than previous one\n",
        "\"\"\"\n",
        "final2=train_setup(population_count=100,no_gen=100,cp=0.3,mp=0.1)"
      ],
      "execution_count": 0,
      "outputs": [
        {
          "output_type": "stream",
          "text": [
            "Generation :  100\n",
            "Overall best fit :  150\n",
            "Current best fit :  150\n",
            "Current avg :  150.0\n"
          ],
          "name": "stdout"
        },
        {
          "output_type": "display_data",
          "data": {
            "image/png": "[encoded data removed]",
            "text/plain": [
              "<Figure size 432x288 with 1 Axes>"
            ]
          },
          "metadata": {
            "tags": []
          }
        },
        {
          "output_type": "stream",
          "text": [
            "CPU times: user 18.4 s, sys: 240 ms, total: 18.6 s\n",
            "Wall time: 18.6 s\n"
          ],
          "name": "stdout"
        }
      ]
    },
    {
      "cell_type": "code",
      "metadata": {
        "id": "K8nh4oMBACjV",
        "colab_type": "code",
        "outputId": "4d146298-593f-4442-bd76-b2056edf3f09",
        "colab": {
          "base_uri": "https://localhost:8080/",
          "height": 381
        }
      },
      "source": [
        "%%time\n",
        "\"\"\"\n",
        "Parameters : pop_count=100,no_gen=100,cp=0.3,mp=0.5\n",
        "noc:15 [int(0.3*100/2)]\n",
        "nom:15 [int(2*0.5*15)]\n",
        "Comments:\n",
        "Sample population and cp as above, but half of the produced child are mutated\n",
        "So convergence is low and saturation is not present\n",
        "\"\"\"\n",
        "final3=train_setup(population_count=100,no_gen=100,cp=0.3,mp=0.5)"
      ],
      "execution_count": 0,
      "outputs": [
        {
          "output_type": "stream",
          "text": [
            "Generation :  100\n",
            "Overall best fit :  179\n",
            "Current best fit :  179\n",
            "Current avg :  190.05\n"
          ],
          "name": "stdout"
        },
        {
          "output_type": "display_data",
          "data": {
            "image/png": "[encoded data removed]",
            "text/plain": [
              "<Figure size 432x288 with 1 Axes>"
            ]
          },
          "metadata": {
            "tags": []
          }
        },
        {
          "output_type": "stream",
          "text": [
            "CPU times: user 18.3 s, sys: 324 ms, total: 18.7 s\n",
            "Wall time: 18.7 s\n"
          ],
          "name": "stdout"
        }
      ]
    },
    {
      "cell_type": "code",
      "metadata": {
        "id": "lCHKVFzZAhVl",
        "colab_type": "code",
        "outputId": "14ed4333-9acd-438e-a47c-7ba3fc0f184e",
        "colab": {
          "base_uri": "https://localhost:8080/",
          "height": 381
        }
      },
      "source": [
        "%%time\n",
        "\"\"\"\n",
        "Parameters : pop_count=100,no_gen=100,cp=1,mp=0.1\n",
        "noc:50 [int(1*100/2)]\n",
        "nom:10 [int(2*0.1*50)]\n",
        "Comments:\n",
        "Same population(100), but cp=1 so every parents are present in crossover and\n",
        "10/100 are mutated, its low so evolution got converged in first few generation.\n",
        "This got the most optimal best fit\n",
        "\"\"\"\n",
        "final4=train_setup(population_count=100,no_gen=100,cp=1,mp=0.1)"
      ],
      "execution_count": 0,
      "outputs": [
        {
          "output_type": "stream",
          "text": [
            "Generation :  100\n",
            "Overall best fit :  137\n",
            "Current best fit :  137\n",
            "Current avg :  137.0\n"
          ],
          "name": "stdout"
        },
        {
          "output_type": "display_data",
          "data": {
            "image/png": "[encoded data removed]",
            "text/plain": [
              "<Figure size 432x288 with 1 Axes>"
            ]
          },
          "metadata": {
            "tags": []
          }
        },
        {
          "output_type": "stream",
          "text": [
            "CPU times: user 19.2 s, sys: 256 ms, total: 19.4 s\n",
            "Wall time: 19.4 s\n"
          ],
          "name": "stdout"
        }
      ]
    },
    {
      "cell_type": "code",
      "metadata": {
        "id": "IS7JFPdn6Gbd",
        "colab_type": "code",
        "colab": {}
      },
      "source": [
        "#Algorithm way to solve TSP //source : https://www.geeksforgeeks.org/traveling-salesman-problem-tsp-implementation/\n",
        "from sys import maxsize \n",
        "V = n\n",
        "def travellingSalesmanProblem(graph, s):   \n",
        "    # store all vertex apart from source vertex \n",
        "    vertex = [] \n",
        "    for i in range(V): \n",
        "        if i != s: \n",
        "            vertex.append(i) \n",
        "    # store minimum weight Hamiltonian Cycle \n",
        "    min_path = maxsize \n",
        "    while True: \n",
        "        # store current Path weight(cost) \n",
        "        current_pathweight = 0\n",
        "        # compute current path weight \n",
        "        k = s \n",
        "        for i in range(len(vertex)): \n",
        "            current_pathweight += graph[k][vertex[i]] \n",
        "            k = vertex[i] \n",
        "        #current_pathweight += graph[k][s] \n",
        "        #update minimum \n",
        "        min_path = min(min_path, current_pathweight) \n",
        "        if not next_permutation(vertex): \n",
        "            break\n",
        "    return min_path \n",
        "  \n",
        "# next_permutation implementation \n",
        "def next_permutation(L): \n",
        "    n = len(L) \n",
        "    i = n - 2\n",
        "    while i >= 0 and L[i] >= L[i + 1]: \n",
        "        i -= 1\n",
        "    if i == -1: \n",
        "        return False\n",
        "    j = i + 1\n",
        "    while j < n and L[j] > L[i]: \n",
        "        j += 1\n",
        "    j -= 1\n",
        "    L[i], L[j] = L[j], L[i] \n",
        "    left = i + 1\n",
        "    right = n - 1\n",
        "    while left < right: \n",
        "        L[left], L[right] = L[right], L[left] \n",
        "        left += 1\n",
        "        right -= 1\n",
        "    return True"
      ],
      "execution_count": 0,
      "outputs": []
    },
    {
      "cell_type": "code",
      "metadata": {
        "id": "TmNqmNJw8YqL",
        "colab_type": "code",
        "outputId": "e8ccb53a-5b2f-4674-98db-dcd29bb16d50",
        "colab": {
          "base_uri": "https://localhost:8080/",
          "height": 68
        }
      },
      "source": [
        "%%time\n",
        "all_=[]\n",
        "for i in cities:\n",
        "  all_.append(travellingSalesmanProblem(graph,i))\n",
        "print(min(all_))"
      ],
      "execution_count": 0,
      "outputs": [
        {
          "output_type": "stream",
          "text": [
            "133\n",
            "CPU times: user 19.7 s, sys: 2.42 ms, total: 19.7 s\n",
            "Wall time: 19.7 s\n"
          ],
          "name": "stdout"
        }
      ]
    }
  ]
}